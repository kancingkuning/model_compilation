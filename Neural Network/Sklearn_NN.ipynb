{
  "nbformat": 4,
  "nbformat_minor": 0,
  "metadata": {
    "colab": {
      "provenance": []
    },
    "kernelspec": {
      "name": "python3",
      "display_name": "Python 3"
    },
    "language_info": {
      "name": "python"
    }
  },
  "cells": [
    {
      "cell_type": "code",
      "execution_count": null,
      "metadata": {
        "id": "ZXcw1gjxbMYz"
      },
      "outputs": [],
      "source": [
        "from google.colab import files\n",
        "upload = files.upload()"
      ]
    },
    {
      "cell_type": "code",
      "source": [
        "import pandas as pd\n",
        "import re\n",
        "import matplotlib.pyplot as plt\n",
        "import seaborn as sns\n",
        "import numpy as np"
      ],
      "metadata": {
        "id": "wNmmPppnbPcC"
      },
      "execution_count": null,
      "outputs": []
    },
    {
      "cell_type": "code",
      "source": [
        "df = pd.read_csv('/content/stemmed.csv')\n",
        "df.drop(columns=['Unnamed: 0', 'negative', 'neutral', 'positive'], axis=1, inplace=True)\n",
        "df"
      ],
      "metadata": {
        "colab": {
          "base_uri": "https://localhost:8080/",
          "height": 424
        },
        "id": "21nozuCbbTfB",
        "outputId": "040acb17-b723-45fb-8330-fda1c5ad5bcc"
      },
      "execution_count": null,
      "outputs": [
        {
          "output_type": "execute_result",
          "data": {
            "text/plain": [
              "                                                   tweet     label\n",
              "0      mohon ulama lurus k mmbri hujjah partai diwlh ...   neutral\n",
              "1      lokasi strategis jalan sumatera bandung nyaman...  positive\n",
              "2        betapa bahagia unboxing paket barang bagus beli  positive\n",
              "3      duh mahasiswa sombong kasih kartu kuning ajar ...  negative\n",
              "4      makan agam harga makan food stall kasir suasan...  positive\n",
              "...                                                  ...       ...\n",
              "10994                                                NaN  positive\n",
              "10995  enak masakan kepiting senang pilih kepiting se...  positive\n",
              "10996                                                NaN   neutral\n",
              "10997    pagi pagi tol pasteur macet parah bikin jengkel  negative\n",
              "10998  belanja yogya riau junction kali lihat foodlif...  positive\n",
              "\n",
              "[10999 rows x 2 columns]"
            ],
            "text/html": [
              "\n",
              "  <div id=\"df-1ded49bf-8cf7-4095-944b-e63055ffa77c\">\n",
              "    <div class=\"colab-df-container\">\n",
              "      <div>\n",
              "<style scoped>\n",
              "    .dataframe tbody tr th:only-of-type {\n",
              "        vertical-align: middle;\n",
              "    }\n",
              "\n",
              "    .dataframe tbody tr th {\n",
              "        vertical-align: top;\n",
              "    }\n",
              "\n",
              "    .dataframe thead th {\n",
              "        text-align: right;\n",
              "    }\n",
              "</style>\n",
              "<table border=\"1\" class=\"dataframe\">\n",
              "  <thead>\n",
              "    <tr style=\"text-align: right;\">\n",
              "      <th></th>\n",
              "      <th>tweet</th>\n",
              "      <th>label</th>\n",
              "    </tr>\n",
              "  </thead>\n",
              "  <tbody>\n",
              "    <tr>\n",
              "      <th>0</th>\n",
              "      <td>mohon ulama lurus k mmbri hujjah partai diwlh ...</td>\n",
              "      <td>neutral</td>\n",
              "    </tr>\n",
              "    <tr>\n",
              "      <th>1</th>\n",
              "      <td>lokasi strategis jalan sumatera bandung nyaman...</td>\n",
              "      <td>positive</td>\n",
              "    </tr>\n",
              "    <tr>\n",
              "      <th>2</th>\n",
              "      <td>betapa bahagia unboxing paket barang bagus beli</td>\n",
              "      <td>positive</td>\n",
              "    </tr>\n",
              "    <tr>\n",
              "      <th>3</th>\n",
              "      <td>duh mahasiswa sombong kasih kartu kuning ajar ...</td>\n",
              "      <td>negative</td>\n",
              "    </tr>\n",
              "    <tr>\n",
              "      <th>4</th>\n",
              "      <td>makan agam harga makan food stall kasir suasan...</td>\n",
              "      <td>positive</td>\n",
              "    </tr>\n",
              "    <tr>\n",
              "      <th>...</th>\n",
              "      <td>...</td>\n",
              "      <td>...</td>\n",
              "    </tr>\n",
              "    <tr>\n",
              "      <th>10994</th>\n",
              "      <td>NaN</td>\n",
              "      <td>positive</td>\n",
              "    </tr>\n",
              "    <tr>\n",
              "      <th>10995</th>\n",
              "      <td>enak masakan kepiting senang pilih kepiting se...</td>\n",
              "      <td>positive</td>\n",
              "    </tr>\n",
              "    <tr>\n",
              "      <th>10996</th>\n",
              "      <td>NaN</td>\n",
              "      <td>neutral</td>\n",
              "    </tr>\n",
              "    <tr>\n",
              "      <th>10997</th>\n",
              "      <td>pagi pagi tol pasteur macet parah bikin jengkel</td>\n",
              "      <td>negative</td>\n",
              "    </tr>\n",
              "    <tr>\n",
              "      <th>10998</th>\n",
              "      <td>belanja yogya riau junction kali lihat foodlif...</td>\n",
              "      <td>positive</td>\n",
              "    </tr>\n",
              "  </tbody>\n",
              "</table>\n",
              "<p>10999 rows × 2 columns</p>\n",
              "</div>\n",
              "      <button class=\"colab-df-convert\" onclick=\"convertToInteractive('df-1ded49bf-8cf7-4095-944b-e63055ffa77c')\"\n",
              "              title=\"Convert this dataframe to an interactive table.\"\n",
              "              style=\"display:none;\">\n",
              "        \n",
              "  <svg xmlns=\"http://www.w3.org/2000/svg\" height=\"24px\"viewBox=\"0 0 24 24\"\n",
              "       width=\"24px\">\n",
              "    <path d=\"M0 0h24v24H0V0z\" fill=\"none\"/>\n",
              "    <path d=\"M18.56 5.44l.94 2.06.94-2.06 2.06-.94-2.06-.94-.94-2.06-.94 2.06-2.06.94zm-11 1L8.5 8.5l.94-2.06 2.06-.94-2.06-.94L8.5 2.5l-.94 2.06-2.06.94zm10 10l.94 2.06.94-2.06 2.06-.94-2.06-.94-.94-2.06-.94 2.06-2.06.94z\"/><path d=\"M17.41 7.96l-1.37-1.37c-.4-.4-.92-.59-1.43-.59-.52 0-1.04.2-1.43.59L10.3 9.45l-7.72 7.72c-.78.78-.78 2.05 0 2.83L4 21.41c.39.39.9.59 1.41.59.51 0 1.02-.2 1.41-.59l7.78-7.78 2.81-2.81c.8-.78.8-2.07 0-2.86zM5.41 20L4 18.59l7.72-7.72 1.47 1.35L5.41 20z\"/>\n",
              "  </svg>\n",
              "      </button>\n",
              "      \n",
              "  <style>\n",
              "    .colab-df-container {\n",
              "      display:flex;\n",
              "      flex-wrap:wrap;\n",
              "      gap: 12px;\n",
              "    }\n",
              "\n",
              "    .colab-df-convert {\n",
              "      background-color: #E8F0FE;\n",
              "      border: none;\n",
              "      border-radius: 50%;\n",
              "      cursor: pointer;\n",
              "      display: none;\n",
              "      fill: #1967D2;\n",
              "      height: 32px;\n",
              "      padding: 0 0 0 0;\n",
              "      width: 32px;\n",
              "    }\n",
              "\n",
              "    .colab-df-convert:hover {\n",
              "      background-color: #E2EBFA;\n",
              "      box-shadow: 0px 1px 2px rgba(60, 64, 67, 0.3), 0px 1px 3px 1px rgba(60, 64, 67, 0.15);\n",
              "      fill: #174EA6;\n",
              "    }\n",
              "\n",
              "    [theme=dark] .colab-df-convert {\n",
              "      background-color: #3B4455;\n",
              "      fill: #D2E3FC;\n",
              "    }\n",
              "\n",
              "    [theme=dark] .colab-df-convert:hover {\n",
              "      background-color: #434B5C;\n",
              "      box-shadow: 0px 1px 3px 1px rgba(0, 0, 0, 0.15);\n",
              "      filter: drop-shadow(0px 1px 2px rgba(0, 0, 0, 0.3));\n",
              "      fill: #FFFFFF;\n",
              "    }\n",
              "  </style>\n",
              "\n",
              "      <script>\n",
              "        const buttonEl =\n",
              "          document.querySelector('#df-1ded49bf-8cf7-4095-944b-e63055ffa77c button.colab-df-convert');\n",
              "        buttonEl.style.display =\n",
              "          google.colab.kernel.accessAllowed ? 'block' : 'none';\n",
              "\n",
              "        async function convertToInteractive(key) {\n",
              "          const element = document.querySelector('#df-1ded49bf-8cf7-4095-944b-e63055ffa77c');\n",
              "          const dataTable =\n",
              "            await google.colab.kernel.invokeFunction('convertToInteractive',\n",
              "                                                     [key], {});\n",
              "          if (!dataTable) return;\n",
              "\n",
              "          const docLinkHtml = 'Like what you see? Visit the ' +\n",
              "            '<a target=\"_blank\" href=https://colab.research.google.com/notebooks/data_table.ipynb>data table notebook</a>'\n",
              "            + ' to learn more about interactive tables.';\n",
              "          element.innerHTML = '';\n",
              "          dataTable['output_type'] = 'display_data';\n",
              "          await google.colab.output.renderOutput(dataTable, element);\n",
              "          const docLink = document.createElement('div');\n",
              "          docLink.innerHTML = docLinkHtml;\n",
              "          element.appendChild(docLink);\n",
              "        }\n",
              "      </script>\n",
              "    </div>\n",
              "  </div>\n",
              "  "
            ]
          },
          "metadata": {},
          "execution_count": 7
        }
      ]
    },
    {
      "cell_type": "code",
      "source": [
        "df['tweet'] = df['tweet'].astype(str)"
      ],
      "metadata": {
        "id": "EcsRshZzmQ5o"
      },
      "execution_count": null,
      "outputs": []
    },
    {
      "cell_type": "code",
      "source": [
        "def cleaning(tweet):\n",
        "  \n",
        "  string = tweet.lower()\n",
        "  string = re.sub(r'[^a-zA-Z]+', ' ', string)\n",
        "  string = re.sub('0-9', ' ', string)\n",
        "  \n",
        "  return string\n",
        "df['tweet'] = df['tweet'].apply(cleaning)"
      ],
      "metadata": {
        "id": "zLRCg_43mIJd"
      },
      "execution_count": null,
      "outputs": []
    },
    {
      "cell_type": "code",
      "source": [
        "!pip install sastrawi\n",
        "from Sastrawi.StopWordRemover.StopWordRemoverFactory import StopWordRemoverFactory\n",
        "reader = df['tweet']\n",
        "factory = StopWordRemoverFactory()\n",
        "stopwords = factory.create_stop_word_remover()\n",
        "df['tweet'] = df['tweet'].apply(stopwords.remove)"
      ],
      "metadata": {
        "id": "MsLQk6_ug3QW",
        "colab": {
          "base_uri": "https://localhost:8080/"
        },
        "outputId": "49013adc-a148-4a18-89f0-f8dba5667d4d"
      },
      "execution_count": null,
      "outputs": [
        {
          "output_type": "stream",
          "name": "stdout",
          "text": [
            "Looking in indexes: https://pypi.org/simple, https://us-python.pkg.dev/colab-wheels/public/simple/\n",
            "Requirement already satisfied: sastrawi in /usr/local/lib/python3.7/dist-packages (1.0.1)\n"
          ]
        }
      ]
    },
    {
      "cell_type": "code",
      "source": [
        "pd.Series(\" \".join(reader).split()).value_counts(10)"
      ],
      "metadata": {
        "colab": {
          "base_uri": "https://localhost:8080/"
        },
        "id": "PWcBOJZ5h0gN",
        "outputId": "518fcda6-4932-47cc-d9d6-b2f65484f2a0"
      },
      "execution_count": null,
      "outputs": [
        {
          "output_type": "execute_result",
          "data": {
            "text/plain": [
              "makan       0.039546\n",
              "enak        0.022538\n",
              "harga       0.012308\n",
              "bandung     0.010510\n",
              "menu        0.010467\n",
              "              ...   \n",
              "negre       0.000006\n",
              "coffie      0.000006\n",
              "biawak      0.000006\n",
              "urai        0.000006\n",
              "foodlife    0.000006\n",
              "Length: 12459, dtype: float64"
            ]
          },
          "metadata": {},
          "execution_count": 15
        }
      ]
    },
    {
      "cell_type": "code",
      "source": [
        "df.tweet.duplicated().sum()"
      ],
      "metadata": {
        "colab": {
          "base_uri": "https://localhost:8080/"
        },
        "id": "fA0J5YHXiHyT",
        "outputId": "f2e34ed2-2c1e-48ed-80e1-bd7ff378d2e9"
      },
      "execution_count": null,
      "outputs": [
        {
          "output_type": "execute_result",
          "data": {
            "text/plain": [
              "236"
            ]
          },
          "metadata": {},
          "execution_count": 16
        }
      ]
    },
    {
      "cell_type": "code",
      "source": [
        "df['tweet'] = df.tweet.drop_duplicates()"
      ],
      "metadata": {
        "id": "Ssem3Dh_iJgV"
      },
      "execution_count": null,
      "outputs": []
    },
    {
      "cell_type": "code",
      "source": [
        "df.label.value_counts()"
      ],
      "metadata": {
        "colab": {
          "base_uri": "https://localhost:8080/"
        },
        "id": "tfMfJOtPlH2M",
        "outputId": "cd03123a-b889-454f-9411-6c94344c89fe"
      },
      "execution_count": null,
      "outputs": [
        {
          "output_type": "execute_result",
          "data": {
            "text/plain": [
              "positive    6415\n",
              "negative    3436\n",
              "neutral     1148\n",
              "Name: label, dtype: int64"
            ]
          },
          "metadata": {},
          "execution_count": 27
        }
      ]
    },
    {
      "cell_type": "code",
      "source": [
        "tweet = df.tweet.to_list()"
      ],
      "metadata": {
        "id": "OAXDxv1Vplb1"
      },
      "execution_count": null,
      "outputs": []
    },
    {
      "cell_type": "code",
      "source": [
        "#import library model\n",
        "from sklearn.feature_extraction.text import TfidfVectorizer\n",
        "from sklearn.model_selection import train_test_split\n",
        "import pickle\n",
        "from sklearn.neural_network import MLPClassifier\n",
        "from sklearn.metrics import classification_report\n",
        "from sklearn.model_selection import KFold\n",
        "from sklearn.metrics import accuracy_score\n",
        "from sklearn.metrics import confusion_matrix"
      ],
      "metadata": {
        "id": "hTwQD8rLlRbx"
      },
      "execution_count": null,
      "outputs": []
    },
    {
      "cell_type": "markdown",
      "source": [
        "#TFIDF"
      ],
      "metadata": {
        "id": "VdY7sy3BqYuM"
      }
    },
    {
      "cell_type": "code",
      "source": [
        "tfidf_vectorizer = TfidfVectorizer()\n",
        "tfidf_vectorizer.fit(tweet)\n",
        "\n",
        "X = tfidf_vectorizer.transform(tweet)\n",
        "y = df['label']"
      ],
      "metadata": {
        "id": "z8wIBEz2n_2m"
      },
      "execution_count": null,
      "outputs": []
    },
    {
      "cell_type": "code",
      "source": [
        "pickle.dump(tfidf_vectorizer, open('feature.p', 'wb'))"
      ],
      "metadata": {
        "id": "H5p3O0T7vD_R"
      },
      "execution_count": null,
      "outputs": []
    },
    {
      "cell_type": "code",
      "source": [
        "X"
      ],
      "metadata": {
        "colab": {
          "base_uri": "https://localhost:8080/"
        },
        "id": "SqcCb4bexz7P",
        "outputId": "d3a89254-5496-4f54-e586-80c0abf42e8e"
      },
      "execution_count": null,
      "outputs": [
        {
          "output_type": "execute_result",
          "data": {
            "text/plain": [
              "<10999x12435 sparse matrix of type '<class 'numpy.float64'>'\n",
              "\twith 145160 stored elements in Compressed Sparse Row format>"
            ]
          },
          "metadata": {},
          "execution_count": 39
        }
      ]
    },
    {
      "cell_type": "code",
      "source": [
        "y"
      ],
      "metadata": {
        "colab": {
          "base_uri": "https://localhost:8080/"
        },
        "id": "p6eu5A4cva5H",
        "outputId": "fed92451-daa7-4a5b-a557-307e08d07e77"
      },
      "execution_count": null,
      "outputs": [
        {
          "output_type": "execute_result",
          "data": {
            "text/plain": [
              "array(['neutral', 'positive', 'positive', ..., 'neutral', 'negative',\n",
              "       'positive'], dtype=object)"
            ]
          },
          "metadata": {},
          "execution_count": 58
        }
      ]
    },
    {
      "cell_type": "code",
      "source": [
        "X_train, X_test, y_train, y_test = train_test_split(X, y, test_size=0.2, stratify = y)"
      ],
      "metadata": {
        "id": "UH4_6WD9vcHn"
      },
      "execution_count": null,
      "outputs": []
    },
    {
      "cell_type": "markdown",
      "source": [
        "#Model NN SKLearn"
      ],
      "metadata": {
        "id": "mm_52fnJx5eQ"
      }
    },
    {
      "cell_type": "code",
      "source": [
        "model = MLPClassifier()\n",
        "model.fit(X_train, y_train)"
      ],
      "metadata": {
        "colab": {
          "base_uri": "https://localhost:8080/"
        },
        "id": "1C0Uo967vnBb",
        "outputId": "110ffee2-dc10-4930-a5bd-307c1aa2aef0"
      },
      "execution_count": null,
      "outputs": [
        {
          "output_type": "execute_result",
          "data": {
            "text/plain": [
              "MLPClassifier()"
            ]
          },
          "metadata": {},
          "execution_count": 53
        }
      ]
    },
    {
      "cell_type": "code",
      "source": [
        "pickle.dump(model, open('model.p', 'wb'))"
      ],
      "metadata": {
        "id": "2TX7THwvv58i"
      },
      "execution_count": null,
      "outputs": []
    },
    {
      "cell_type": "code",
      "source": [
        "history = model.predict(X_test)\n",
        "print(classification_report(y_test, history))"
      ],
      "metadata": {
        "colab": {
          "base_uri": "https://localhost:8080/"
        },
        "id": "3duZJlKlwRVC",
        "outputId": "a3f95fdd-8b92-4c46-897c-dd1d4b101093"
      },
      "execution_count": null,
      "outputs": [
        {
          "output_type": "stream",
          "name": "stdout",
          "text": [
            "              precision    recall  f1-score   support\n",
            "\n",
            "    negative       0.70      0.75      0.73       687\n",
            "     neutral       0.69      0.66      0.68       230\n",
            "    positive       0.88      0.85      0.86      1283\n",
            "\n",
            "    accuracy                           0.80      2200\n",
            "   macro avg       0.76      0.75      0.76      2200\n",
            "weighted avg       0.80      0.80      0.80      2200\n",
            "\n"
          ]
        }
      ]
    },
    {
      "cell_type": "code",
      "source": [
        "# Generate confusion matrix\n",
        "from sklearn.metrics import plot_confusion_matrix\n",
        "matrix = plot_confusion_matrix(model, X_test, y_test,\n",
        "                                 cmap=plt.cm.Blues,\n",
        "                                 normalize='true')\n",
        "plt.title('Confusion matrix for our classifier')\n",
        "plt.show(matrix)\n",
        "plt.show();"
      ],
      "metadata": {
        "colab": {
          "base_uri": "https://localhost:8080/",
          "height": 350
        },
        "id": "f5Rz8NUcz_B-",
        "outputId": "11dc42cd-d0e4-4933-ab60-f3cd3c1946e2"
      },
      "execution_count": null,
      "outputs": [
        {
          "output_type": "stream",
          "name": "stderr",
          "text": [
            "/usr/local/lib/python3.7/dist-packages/sklearn/utils/deprecation.py:87: FutureWarning: Function plot_confusion_matrix is deprecated; Function `plot_confusion_matrix` is deprecated in 1.0 and will be removed in 1.2. Use one of the class methods: ConfusionMatrixDisplay.from_predictions or ConfusionMatrixDisplay.from_estimator.\n",
            "  warnings.warn(msg, category=FutureWarning)\n"
          ]
        },
        {
          "output_type": "display_data",
          "data": {
            "text/plain": [
              "<Figure size 432x288 with 2 Axes>"
            ],
            "image/png": "[encoded data removed]"
          },
          "metadata": {
            "needs_background": "light"
          }
        }
      ]
    },
    {
      "cell_type": "code",
      "source": [
        "#evaluasi\n",
        "kf = KFold(n_splits=5, random_state=42, shuffle=True)\n",
        "accuracies = []\n",
        "y = y\n",
        "\n",
        "for iteration, data in enumerate(kf.split(X), start=1):\n",
        "  data_train = X[data[0]]\n",
        "  target_train = y[data[0]]\n",
        "\n",
        "  data_test = X[data[1]]\n",
        "  target_test = y[data[1]]\n",
        "\n",
        "  clf = MLPClassifier()\n",
        "  clf.fit(data_train, target_train)\n",
        "\n",
        "  preds = clf.predict(data_test)\n",
        "\n",
        "  accuracy = accuracy_score(target_test, preds)\n",
        "\n",
        "  print('training ke-', iteration)\n",
        "  print(classification_report(target_test, preds))\n",
        "  print('-------------------------------------------')\n",
        "\n",
        "  accuracies.append(accuracy)\n",
        "\n",
        "average_accuracy = np.mean(accuracies)\n",
        "\n",
        "print()\n",
        "print()\n",
        "print()\n",
        "print('rata-rata akurasi:', average_accuracy)"
      ],
      "metadata": {
        "colab": {
          "base_uri": "https://localhost:8080/"
        },
        "id": "SYR1d-M0w7Eo",
        "outputId": "4a0b06cc-5a05-4ccd-b0db-0a3eafe07434"
      },
      "execution_count": null,
      "outputs": [
        {
          "output_type": "stream",
          "name": "stdout",
          "text": [
            "training ke- 1\n",
            "              precision    recall  f1-score   support\n",
            "\n",
            "    negative       0.74      0.70      0.72       693\n",
            "     neutral       0.65      0.66      0.66       213\n",
            "    positive       0.85      0.87      0.86      1294\n",
            "\n",
            "    accuracy                           0.80      2200\n",
            "   macro avg       0.75      0.74      0.75      2200\n",
            "weighted avg       0.80      0.80      0.80      2200\n",
            "\n",
            "-------------------------------------------\n",
            "training ke- 2\n",
            "              precision    recall  f1-score   support\n",
            "\n",
            "    negative       0.73      0.76      0.74       729\n",
            "     neutral       0.73      0.59      0.65       247\n",
            "    positive       0.85      0.87      0.86      1224\n",
            "\n",
            "    accuracy                           0.80      2200\n",
            "   macro avg       0.77      0.74      0.75      2200\n",
            "weighted avg       0.80      0.80      0.80      2200\n",
            "\n",
            "-------------------------------------------\n",
            "training ke- 3\n",
            "              precision    recall  f1-score   support\n",
            "\n",
            "    negative       0.69      0.74      0.71       689\n",
            "     neutral       0.70      0.61      0.65       216\n",
            "    positive       0.87      0.85      0.86      1295\n",
            "\n",
            "    accuracy                           0.79      2200\n",
            "   macro avg       0.75      0.73      0.74      2200\n",
            "weighted avg       0.79      0.79      0.79      2200\n",
            "\n",
            "-------------------------------------------\n",
            "training ke- 4\n",
            "              precision    recall  f1-score   support\n",
            "\n",
            "    negative       0.73      0.70      0.72       656\n",
            "     neutral       0.72      0.60      0.66       230\n",
            "    positive       0.85      0.89      0.87      1314\n",
            "\n",
            "    accuracy                           0.81      2200\n",
            "   macro avg       0.77      0.73      0.75      2200\n",
            "weighted avg       0.80      0.81      0.80      2200\n",
            "\n",
            "-------------------------------------------\n",
            "training ke- 5\n",
            "              precision    recall  f1-score   support\n",
            "\n",
            "    negative       0.68      0.77      0.73       669\n",
            "     neutral       0.72      0.59      0.65       242\n",
            "    positive       0.88      0.85      0.87      1288\n",
            "\n",
            "    accuracy                           0.80      2199\n",
            "   macro avg       0.76      0.74      0.75      2199\n",
            "weighted avg       0.80      0.80      0.80      2199\n",
            "\n",
            "-------------------------------------------\n",
            "\n",
            "\n",
            "\n",
            "rata-rata akurasi: 0.7987090826408698\n"
          ]
        }
      ]
    },
    {
      "cell_type": "code",
      "source": [
        "text = \"\"\"\n",
        "makanannya enak banget!!!\n",
        "\"\"\"\n",
        "teks = tfidf_vectorizer.transform([cleaning(text)])\n",
        "\n",
        "result = model.predict(teks)[0]\n",
        "print('sentiment', result)"
      ],
      "metadata": {
        "colab": {
          "base_uri": "https://localhost:8080/"
        },
        "id": "jT67b33lzuVo",
        "outputId": "48814558-602f-4553-eb15-2d99a06b4f87"
      },
      "execution_count": null,
      "outputs": [
        {
          "output_type": "stream",
          "name": "stdout",
          "text": [
            "sentiment positive\n"
          ]
        }
      ]
    },
    {
      "cell_type": "code",
      "source": [
        "text = '''\n",
        "rasa ga enak!\n",
        "'''\n",
        "teks = tfidf_vectorizer.transform([cleaning(text)])\n",
        "\n",
        "result = model.predict(teks)[0]\n",
        "print('sentiment', result)"
      ],
      "metadata": {
        "colab": {
          "base_uri": "https://localhost:8080/"
        },
        "id": "kLKX9-Gf0ieF",
        "outputId": "f89eaa8e-61f6-4040-d97d-7624ba1cd4bb"
      },
      "execution_count": null,
      "outputs": [
        {
          "output_type": "stream",
          "name": "stdout",
          "text": [
            "sentiment negative\n"
          ]
        }
      ]
    },
    {
      "cell_type": "code",
      "source": [
        "text = '''\n",
        "saya mau makan\n",
        "'''\n",
        "teks = tfidf_vectorizer.transform([cleaning(text)])\n",
        "\n",
        "result = model.predict(teks)[0]\n",
        "print('sentiment', result)"
      ],
      "metadata": {
        "id": "n8FZfnR107c1",
        "outputId": "2847d8e2-cc8c-4cbc-b6ad-7088254b95b0",
        "colab": {
          "base_uri": "https://localhost:8080/"
        }
      },
      "execution_count": null,
      "outputs": [
        {
          "output_type": "stream",
          "name": "stdout",
          "text": [
            "sentiment neutral\n"
          ]
        }
      ]
    }
  ]
}