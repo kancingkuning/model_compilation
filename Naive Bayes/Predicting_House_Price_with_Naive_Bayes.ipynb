{
  "nbformat": 4,
  "nbformat_minor": 0,
  "metadata": {
    "colab": {
      "provenance": []
    },
    "kernelspec": {
      "name": "python3",
      "display_name": "Python 3"
    },
    "language_info": {
      "name": "python"
    }
  },
  "cells": [
    {
      "cell_type": "markdown",
      "source": [
        "#NEBAK HARGA RUMAH GUSTI ALLAH TEHNOLOGI"
      ],
      "metadata": {
        "id": "txxmxb6951lV"
      }
    },
    {
      "cell_type": "code",
      "execution_count": null,
      "metadata": {
        "colab": {
          "base_uri": "https://localhost:8080/",
          "height": 73
        },
        "id": "JohwhTR5ni0w",
        "outputId": "3e79f1a4-c340-4296-dfe1-5d1061552cb8"
      },
      "outputs": [
        {
          "output_type": "display_data",
          "data": {
            "text/plain": [
              "<IPython.core.display.HTML object>"
            ],
            "text/html": [
              "\n",
              "     <input type=\"file\" id=\"files-b552e41c-a9b0-4e39-8a38-c315277ce618\" name=\"files[]\" multiple disabled\n",
              "        style=\"border:none\" />\n",
              "     <output id=\"result-b552e41c-a9b0-4e39-8a38-c315277ce618\">\n",
              "      Upload widget is only available when the cell has been executed in the\n",
              "      current browser session. Please rerun this cell to enable.\n",
              "      </output>\n",
              "      <script>// Copyright 2017 Google LLC\n",
              "//\n",
              "// Licensed under the Apache License, Version 2.0 (the \"License\");\n",
              "// you may not use this file except in compliance with the License.\n",
              "// You may obtain a copy of the License at\n",
              "//\n",
              "//      http://www.apache.org/licenses/LICENSE-2.0\n",
              "//\n",
              "// Unless required by applicable law or agreed to in writing, software\n",
              "// distributed under the License is distributed on an \"AS IS\" BASIS,\n",
              "// WITHOUT WARRANTIES OR CONDITIONS OF ANY KIND, either express or implied.\n",
              "// See the License for the specific language governing permissions and\n",
              "// limitations under the License.\n",
              "\n",
              "/**\n",
              " * @fileoverview Helpers for google.colab Python module.\n",
              " */\n",
              "(function(scope) {\n",
              "function span(text, styleAttributes = {}) {\n",
              "  const element = document.createElement('span');\n",
              "  element.textContent = text;\n",
              "  for (const key of Object.keys(styleAttributes)) {\n",
              "    element.style[key] = styleAttributes[key];\n",
              "  }\n",
              "  return element;\n",
              "}\n",
              "\n",
              "// Max number of bytes which will be uploaded at a time.\n",
              "const MAX_PAYLOAD_SIZE = 100 * 1024;\n",
              "\n",
              "function _uploadFiles(inputId, outputId) {\n",
              "  const steps = uploadFilesStep(inputId, outputId);\n",
              "  const outputElement = document.getElementById(outputId);\n",
              "  // Cache steps on the outputElement to make it available for the next call\n",
              "  // to uploadFilesContinue from Python.\n",
              "  outputElement.steps = steps;\n",
              "\n",
              "  return _uploadFilesContinue(outputId);\n",
              "}\n",
              "\n",
              "// This is roughly an async generator (not supported in the browser yet),\n",
              "// where there are multiple asynchronous steps and the Python side is going\n",
              "// to poll for completion of each step.\n",
              "// This uses a Promise to block the python side on completion of each step,\n",
              "// then passes the result of the previous step as the input to the next step.\n",
              "function _uploadFilesContinue(outputId) {\n",
              "  const outputElement = document.getElementById(outputId);\n",
              "  const steps = outputElement.steps;\n",
              "\n",
              "  const next = steps.next(outputElement.lastPromiseValue);\n",
              "  return Promise.resolve(next.value.promise).then((value) => {\n",
              "    // Cache the last promise value to make it available to the next\n",
              "    // step of the generator.\n",
              "    outputElement.lastPromiseValue = value;\n",
              "    return next.value.response;\n",
              "  });\n",
              "}\n",
              "\n",
              "/**\n",
              " * Generator function which is called between each async step of the upload\n",
              " * process.\n",
              " * @param {string} inputId Element ID of the input file picker element.\n",
              " * @param {string} outputId Element ID of the output display.\n",
              " * @return {!Iterable<!Object>} Iterable of next steps.\n",
              " */\n",
              "function* uploadFilesStep(inputId, outputId) {\n",
              "  const inputElement = document.getElementById(inputId);\n",
              "  inputElement.disabled = false;\n",
              "\n",
              "  const outputElement = document.getElementById(outputId);\n",
              "  outputElement.innerHTML = '';\n",
              "\n",
              "  const pickedPromise = new Promise((resolve) => {\n",
              "    inputElement.addEventListener('change', (e) => {\n",
              "      resolve(e.target.files);\n",
              "    });\n",
              "  });\n",
              "\n",
              "  const cancel = document.createElement('button');\n",
              "  inputElement.parentElement.appendChild(cancel);\n",
              "  cancel.textContent = 'Cancel upload';\n",
              "  const cancelPromise = new Promise((resolve) => {\n",
              "    cancel.onclick = () => {\n",
              "      resolve(null);\n",
              "    };\n",
              "  });\n",
              "\n",
              "  // Wait for the user to pick the files.\n",
              "  const files = yield {\n",
              "    promise: Promise.race([pickedPromise, cancelPromise]),\n",
              "    response: {\n",
              "      action: 'starting',\n",
              "    }\n",
              "  };\n",
              "\n",
              "  cancel.remove();\n",
              "\n",
              "  // Disable the input element since further picks are not allowed.\n",
              "  inputElement.disabled = true;\n",
              "\n",
              "  if (!files) {\n",
              "    return {\n",
              "      response: {\n",
              "        action: 'complete',\n",
              "      }\n",
              "    };\n",
              "  }\n",
              "\n",
              "  for (const file of files) {\n",
              "    const li = document.createElement('li');\n",
              "    li.append(span(file.name, {fontWeight: 'bold'}));\n",
              "    li.append(span(\n",
              "        `(${file.type || 'n/a'}) - ${file.size} bytes, ` +\n",
              "        `last modified: ${\n",
              "            file.lastModifiedDate ? file.lastModifiedDate.toLocaleDateString() :\n",
              "                                    'n/a'} - `));\n",
              "    const percent = span('0% done');\n",
              "    li.appendChild(percent);\n",
              "\n",
              "    outputElement.appendChild(li);\n",
              "\n",
              "    const fileDataPromise = new Promise((resolve) => {\n",
              "      const reader = new FileReader();\n",
              "      reader.onload = (e) => {\n",
              "        resolve(e.target.result);\n",
              "      };\n",
              "      reader.readAsArrayBuffer(file);\n",
              "    });\n",
              "    // Wait for the data to be ready.\n",
              "    let fileData = yield {\n",
              "      promise: fileDataPromise,\n",
              "      response: {\n",
              "        action: 'continue',\n",
              "      }\n",
              "    };\n",
              "\n",
              "    // Use a chunked sending to avoid message size limits. See b/62115660.\n",
              "    let position = 0;\n",
              "    do {\n",
              "      const length = Math.min(fileData.byteLength - position, MAX_PAYLOAD_SIZE);\n",
              "      const chunk = new Uint8Array(fileData, position, length);\n",
              "      position += length;\n",
              "\n",
              "      const base64 = btoa(String.fromCharCode.apply(null, chunk));\n",
              "      yield {\n",
              "        response: {\n",
              "          action: 'append',\n",
              "          file: file.name,\n",
              "          data: base64,\n",
              "        },\n",
              "      };\n",
              "\n",
              "      let percentDone = fileData.byteLength === 0 ?\n",
              "          100 :\n",
              "          Math.round((position / fileData.byteLength) * 100);\n",
              "      percent.textContent = `${percentDone}% done`;\n",
              "\n",
              "    } while (position < fileData.byteLength);\n",
              "  }\n",
              "\n",
              "  // All done.\n",
              "  yield {\n",
              "    response: {\n",
              "      action: 'complete',\n",
              "    }\n",
              "  };\n",
              "}\n",
              "\n",
              "scope.google = scope.google || {};\n",
              "scope.google.colab = scope.google.colab || {};\n",
              "scope.google.colab._files = {\n",
              "  _uploadFiles,\n",
              "  _uploadFilesContinue,\n",
              "};\n",
              "})(self);\n",
              "</script> "
            ]
          },
          "metadata": {}
        },
        {
          "output_type": "stream",
          "name": "stdout",
          "text": [
            "Saving Data Latihan Regresi (House).csv to Data Latihan Regresi (House).csv\n"
          ]
        }
      ],
      "source": [
        "from google.colab import files\n",
        "upload = files.upload()"
      ]
    },
    {
      "cell_type": "code",
      "source": [
        "import pandas as pd\n",
        "df = pd.read_csv('/content/Data Latihan Regresi (House).csv').dropna()\n",
        "df.head()"
      ],
      "metadata": {
        "colab": {
          "base_uri": "https://localhost:8080/",
          "height": 629
        },
        "id": "vx5v3So-y7Id",
        "outputId": "1921eb40-52f8-426b-eda3-d8b6c544110c"
      },
      "execution_count": null,
      "outputs": [
        {
          "output_type": "execute_result",
          "data": {
            "text/plain": [
              "   category   subcategory                                               name  \\\n",
              "0     house       Flowers           150pcs / pack de graines de fleurs Hosta   \n",
              "1     house  Home Carpets  Tapis de maison antidérapants de style floral ...   \n",
              "17    house    Pesticides  Anti-Mosquito Lamp Electric Fly Bug Zapper Mos...   \n",
              "59    house       Flowers           150pcs / pack de graines de fleurs Hosta   \n",
              "60    house  Home Carpets  Tapis de maison antidérapants de style floral ...   \n",
              "\n",
              "    current_price  raw_price currency  discount  likes_count  is_new    brand  \\\n",
              "0            4.99       8.99      USD        45          867   False    Egrow   \n",
              "1           16.17      43.74      USD        63          703   False  DecBest   \n",
              "17          15.99      46.68      USD        66          453   False   Loskii   \n",
              "59           4.99       8.99      USD        45          867   False    Egrow   \n",
              "60          16.17      43.74      USD        63          703   False  DecBest   \n",
              "\n",
              "    ... variation_0_color variation_1_color  \\\n",
              "0   ...            Violet              vert   \n",
              "1   ...                #1                #2   \n",
              "17  ...             White             Black   \n",
              "59  ...            Violet              vert   \n",
              "60  ...                #1                #2   \n",
              "\n",
              "                                variation_0_thumbnail  \\\n",
              "0   https://imgaz1.chiccdn.com/thumb/list_grid/oau...   \n",
              "1   https://imgaz1.chiccdn.com/thumb/list_grid/oau...   \n",
              "17  https://imgaz1.chiccdn.com/thumb/list_grid/oau...   \n",
              "59  https://imgaz1.chiccdn.com/thumb/list_grid/oau...   \n",
              "60  https://imgaz1.chiccdn.com/thumb/list_grid/oau...   \n",
              "\n",
              "                                    variation_0_image  \\\n",
              "0   https://imgaz1.chiccdn.com/thumb/view/oaupload...   \n",
              "1   https://imgaz1.chiccdn.com/thumb/view/oaupload...   \n",
              "17  https://imgaz1.chiccdn.com/thumb/view/oaupload...   \n",
              "59  https://imgaz1.chiccdn.com/thumb/view/oaupload...   \n",
              "60  https://imgaz1.chiccdn.com/thumb/view/oaupload...   \n",
              "\n",
              "                                variation_1_thumbnail  \\\n",
              "0   https://imgaz1.chiccdn.com/thumb/list_grid/oau...   \n",
              "1   https://imgaz1.chiccdn.com/thumb/list_grid/oau...   \n",
              "17  https://imgaz1.chiccdn.com/thumb/list_grid/oau...   \n",
              "59  https://imgaz1.chiccdn.com/thumb/list_grid/oau...   \n",
              "60  https://imgaz1.chiccdn.com/thumb/list_grid/oau...   \n",
              "\n",
              "                                    variation_1_image  \\\n",
              "0   https://imgaz1.chiccdn.com/thumb/view/oaupload...   \n",
              "1   https://imgaz1.chiccdn.com/thumb/view/oaupload...   \n",
              "17  https://imgaz1.chiccdn.com/thumb/view/oaupload...   \n",
              "59  https://imgaz1.chiccdn.com/thumb/view/oaupload...   \n",
              "60  https://imgaz1.chiccdn.com/thumb/view/oaupload...   \n",
              "\n",
              "                                            image_url  \\\n",
              "0   https://imgaz1.chiccdn.com/thumb/view/oaupload...   \n",
              "1   https://imgaz1.chiccdn.com/thumb/view/oaupload...   \n",
              "17  https://imgaz1.chiccdn.com/thumb/view/oaupload...   \n",
              "59  https://imgaz1.chiccdn.com/thumb/view/oaupload...   \n",
              "60  https://imgaz1.chiccdn.com/thumb/view/oaupload...   \n",
              "\n",
              "                                                  url       id      model  \n",
              "0   https://fr.newchic.com/egrow-flowers-8679/p-13...  1317953  SKU967403  \n",
              "1   https://fr.newchic.com/decbest-home-carpets-72...  1496436  SKUC30634  \n",
              "17  https://fr.newchic.com/loskii-pests-control-an...  1440132  SKUB44572  \n",
              "59  https://fr.newchic.com/egrow-flowers-8679/p-13...  1317953  SKU967403  \n",
              "60  https://fr.newchic.com/decbest-home-carpets-72...  1496436  SKUC30634  \n",
              "\n",
              "[5 rows x 22 columns]"
            ],
            "text/html": [
              "\n",
              "  <div id=\"df-1a669e7b-8c64-4688-8d20-0a5d326c185a\">\n",
              "    <div class=\"colab-df-container\">\n",
              "      <div>\n",
              "<style scoped>\n",
              "    .dataframe tbody tr th:only-of-type {\n",
              "        vertical-align: middle;\n",
              "    }\n",
              "\n",
              "    .dataframe tbody tr th {\n",
              "        vertical-align: top;\n",
              "    }\n",
              "\n",
              "    .dataframe thead th {\n",
              "        text-align: right;\n",
              "    }\n",
              "</style>\n",
              "<table border=\"1\" class=\"dataframe\">\n",
              "  <thead>\n",
              "    <tr style=\"text-align: right;\">\n",
              "      <th></th>\n",
              "      <th>category</th>\n",
              "      <th>subcategory</th>\n",
              "      <th>name</th>\n",
              "      <th>current_price</th>\n",
              "      <th>raw_price</th>\n",
              "      <th>currency</th>\n",
              "      <th>discount</th>\n",
              "      <th>likes_count</th>\n",
              "      <th>is_new</th>\n",
              "      <th>brand</th>\n",
              "      <th>...</th>\n",
              "      <th>variation_0_color</th>\n",
              "      <th>variation_1_color</th>\n",
              "      <th>variation_0_thumbnail</th>\n",
              "      <th>variation_0_image</th>\n",
              "      <th>variation_1_thumbnail</th>\n",
              "      <th>variation_1_image</th>\n",
              "      <th>image_url</th>\n",
              "      <th>url</th>\n",
              "      <th>id</th>\n",
              "      <th>model</th>\n",
              "    </tr>\n",
              "  </thead>\n",
              "  <tbody>\n",
              "    <tr>\n",
              "      <th>0</th>\n",
              "      <td>house</td>\n",
              "      <td>Flowers</td>\n",
              "      <td>150pcs / pack de graines de fleurs Hosta</td>\n",
              "      <td>4.99</td>\n",
              "      <td>8.99</td>\n",
              "      <td>USD</td>\n",
              "      <td>45</td>\n",
              "      <td>867</td>\n",
              "      <td>False</td>\n",
              "      <td>Egrow</td>\n",
              "      <td>...</td>\n",
              "      <td>Violet</td>\n",
              "      <td>vert</td>\n",
              "      <td>https://imgaz1.chiccdn.com/thumb/list_grid/oau...</td>\n",
              "      <td>https://imgaz1.chiccdn.com/thumb/view/oaupload...</td>\n",
              "      <td>https://imgaz1.chiccdn.com/thumb/list_grid/oau...</td>\n",
              "      <td>https://imgaz1.chiccdn.com/thumb/view/oaupload...</td>\n",
              "      <td>https://imgaz1.chiccdn.com/thumb/view/oaupload...</td>\n",
              "      <td>https://fr.newchic.com/egrow-flowers-8679/p-13...</td>\n",
              "      <td>1317953</td>\n",
              "      <td>SKU967403</td>\n",
              "    </tr>\n",
              "    <tr>\n",
              "      <th>1</th>\n",
              "      <td>house</td>\n",
              "      <td>Home Carpets</td>\n",
              "      <td>Tapis de maison antidérapants de style floral ...</td>\n",
              "      <td>16.17</td>\n",
              "      <td>43.74</td>\n",
              "      <td>USD</td>\n",
              "      <td>63</td>\n",
              "      <td>703</td>\n",
              "      <td>False</td>\n",
              "      <td>DecBest</td>\n",
              "      <td>...</td>\n",
              "      <td>#1</td>\n",
              "      <td>#2</td>\n",
              "      <td>https://imgaz1.chiccdn.com/thumb/list_grid/oau...</td>\n",
              "      <td>https://imgaz1.chiccdn.com/thumb/view/oaupload...</td>\n",
              "      <td>https://imgaz1.chiccdn.com/thumb/list_grid/oau...</td>\n",
              "      <td>https://imgaz1.chiccdn.com/thumb/view/oaupload...</td>\n",
              "      <td>https://imgaz1.chiccdn.com/thumb/view/oaupload...</td>\n",
              "      <td>https://fr.newchic.com/decbest-home-carpets-72...</td>\n",
              "      <td>1496436</td>\n",
              "      <td>SKUC30634</td>\n",
              "    </tr>\n",
              "    <tr>\n",
              "      <th>17</th>\n",
              "      <td>house</td>\n",
              "      <td>Pesticides</td>\n",
              "      <td>Anti-Mosquito Lamp Electric Fly Bug Zapper Mos...</td>\n",
              "      <td>15.99</td>\n",
              "      <td>46.68</td>\n",
              "      <td>USD</td>\n",
              "      <td>66</td>\n",
              "      <td>453</td>\n",
              "      <td>False</td>\n",
              "      <td>Loskii</td>\n",
              "      <td>...</td>\n",
              "      <td>White</td>\n",
              "      <td>Black</td>\n",
              "      <td>https://imgaz1.chiccdn.com/thumb/list_grid/oau...</td>\n",
              "      <td>https://imgaz1.chiccdn.com/thumb/view/oaupload...</td>\n",
              "      <td>https://imgaz1.chiccdn.com/thumb/list_grid/oau...</td>\n",
              "      <td>https://imgaz1.chiccdn.com/thumb/view/oaupload...</td>\n",
              "      <td>https://imgaz1.chiccdn.com/thumb/view/oaupload...</td>\n",
              "      <td>https://fr.newchic.com/loskii-pests-control-an...</td>\n",
              "      <td>1440132</td>\n",
              "      <td>SKUB44572</td>\n",
              "    </tr>\n",
              "    <tr>\n",
              "      <th>59</th>\n",
              "      <td>house</td>\n",
              "      <td>Flowers</td>\n",
              "      <td>150pcs / pack de graines de fleurs Hosta</td>\n",
              "      <td>4.99</td>\n",
              "      <td>8.99</td>\n",
              "      <td>USD</td>\n",
              "      <td>45</td>\n",
              "      <td>867</td>\n",
              "      <td>False</td>\n",
              "      <td>Egrow</td>\n",
              "      <td>...</td>\n",
              "      <td>Violet</td>\n",
              "      <td>vert</td>\n",
              "      <td>https://imgaz1.chiccdn.com/thumb/list_grid/oau...</td>\n",
              "      <td>https://imgaz1.chiccdn.com/thumb/view/oaupload...</td>\n",
              "      <td>https://imgaz1.chiccdn.com/thumb/list_grid/oau...</td>\n",
              "      <td>https://imgaz1.chiccdn.com/thumb/view/oaupload...</td>\n",
              "      <td>https://imgaz1.chiccdn.com/thumb/view/oaupload...</td>\n",
              "      <td>https://fr.newchic.com/egrow-flowers-8679/p-13...</td>\n",
              "      <td>1317953</td>\n",
              "      <td>SKU967403</td>\n",
              "    </tr>\n",
              "    <tr>\n",
              "      <th>60</th>\n",
              "      <td>house</td>\n",
              "      <td>Home Carpets</td>\n",
              "      <td>Tapis de maison antidérapants de style floral ...</td>\n",
              "      <td>16.17</td>\n",
              "      <td>43.74</td>\n",
              "      <td>USD</td>\n",
              "      <td>63</td>\n",
              "      <td>703</td>\n",
              "      <td>False</td>\n",
              "      <td>DecBest</td>\n",
              "      <td>...</td>\n",
              "      <td>#1</td>\n",
              "      <td>#2</td>\n",
              "      <td>https://imgaz1.chiccdn.com/thumb/list_grid/oau...</td>\n",
              "      <td>https://imgaz1.chiccdn.com/thumb/view/oaupload...</td>\n",
              "      <td>https://imgaz1.chiccdn.com/thumb/list_grid/oau...</td>\n",
              "      <td>https://imgaz1.chiccdn.com/thumb/view/oaupload...</td>\n",
              "      <td>https://imgaz1.chiccdn.com/thumb/view/oaupload...</td>\n",
              "      <td>https://fr.newchic.com/decbest-home-carpets-72...</td>\n",
              "      <td>1496436</td>\n",
              "      <td>SKUC30634</td>\n",
              "    </tr>\n",
              "  </tbody>\n",
              "</table>\n",
              "<p>5 rows × 22 columns</p>\n",
              "</div>\n",
              "      <button class=\"colab-df-convert\" onclick=\"convertToInteractive('df-1a669e7b-8c64-4688-8d20-0a5d326c185a')\"\n",
              "              title=\"Convert this dataframe to an interactive table.\"\n",
              "              style=\"display:none;\">\n",
              "        \n",
              "  <svg xmlns=\"http://www.w3.org/2000/svg\" height=\"24px\"viewBox=\"0 0 24 24\"\n",
              "       width=\"24px\">\n",
              "    <path d=\"M0 0h24v24H0V0z\" fill=\"none\"/>\n",
              "    <path d=\"M18.56 5.44l.94 2.06.94-2.06 2.06-.94-2.06-.94-.94-2.06-.94 2.06-2.06.94zm-11 1L8.5 8.5l.94-2.06 2.06-.94-2.06-.94L8.5 2.5l-.94 2.06-2.06.94zm10 10l.94 2.06.94-2.06 2.06-.94-2.06-.94-.94-2.06-.94 2.06-2.06.94z\"/><path d=\"M17.41 7.96l-1.37-1.37c-.4-.4-.92-.59-1.43-.59-.52 0-1.04.2-1.43.59L10.3 9.45l-7.72 7.72c-.78.78-.78 2.05 0 2.83L4 21.41c.39.39.9.59 1.41.59.51 0 1.02-.2 1.41-.59l7.78-7.78 2.81-2.81c.8-.78.8-2.07 0-2.86zM5.41 20L4 18.59l7.72-7.72 1.47 1.35L5.41 20z\"/>\n",
              "  </svg>\n",
              "      </button>\n",
              "      \n",
              "  <style>\n",
              "    .colab-df-container {\n",
              "      display:flex;\n",
              "      flex-wrap:wrap;\n",
              "      gap: 12px;\n",
              "    }\n",
              "\n",
              "    .colab-df-convert {\n",
              "      background-color: #E8F0FE;\n",
              "      border: none;\n",
              "      border-radius: 50%;\n",
              "      cursor: pointer;\n",
              "      display: none;\n",
              "      fill: #1967D2;\n",
              "      height: 32px;\n",
              "      padding: 0 0 0 0;\n",
              "      width: 32px;\n",
              "    }\n",
              "\n",
              "    .colab-df-convert:hover {\n",
              "      background-color: #E2EBFA;\n",
              "      box-shadow: 0px 1px 2px rgba(60, 64, 67, 0.3), 0px 1px 3px 1px rgba(60, 64, 67, 0.15);\n",
              "      fill: #174EA6;\n",
              "    }\n",
              "\n",
              "    [theme=dark] .colab-df-convert {\n",
              "      background-color: #3B4455;\n",
              "      fill: #D2E3FC;\n",
              "    }\n",
              "\n",
              "    [theme=dark] .colab-df-convert:hover {\n",
              "      background-color: #434B5C;\n",
              "      box-shadow: 0px 1px 3px 1px rgba(0, 0, 0, 0.15);\n",
              "      filter: drop-shadow(0px 1px 2px rgba(0, 0, 0, 0.3));\n",
              "      fill: #FFFFFF;\n",
              "    }\n",
              "  </style>\n",
              "\n",
              "      <script>\n",
              "        const buttonEl =\n",
              "          document.querySelector('#df-1a669e7b-8c64-4688-8d20-0a5d326c185a button.colab-df-convert');\n",
              "        buttonEl.style.display =\n",
              "          google.colab.kernel.accessAllowed ? 'block' : 'none';\n",
              "\n",
              "        async function convertToInteractive(key) {\n",
              "          const element = document.querySelector('#df-1a669e7b-8c64-4688-8d20-0a5d326c185a');\n",
              "          const dataTable =\n",
              "            await google.colab.kernel.invokeFunction('convertToInteractive',\n",
              "                                                     [key], {});\n",
              "          if (!dataTable) return;\n",
              "\n",
              "          const docLinkHtml = 'Like what you see? Visit the ' +\n",
              "            '<a target=\"_blank\" href=https://colab.research.google.com/notebooks/data_table.ipynb>data table notebook</a>'\n",
              "            + ' to learn more about interactive tables.';\n",
              "          element.innerHTML = '';\n",
              "          dataTable['output_type'] = 'display_data';\n",
              "          await google.colab.output.renderOutput(dataTable, element);\n",
              "          const docLink = document.createElement('div');\n",
              "          docLink.innerHTML = docLinkHtml;\n",
              "          element.appendChild(docLink);\n",
              "        }\n",
              "      </script>\n",
              "    </div>\n",
              "  </div>\n",
              "  "
            ]
          },
          "metadata": {},
          "execution_count": 4
        }
      ]
    },
    {
      "cell_type": "code",
      "source": [
        "import seaborn as sns\n",
        "x = df.current_price\n",
        "y = df.raw_price\n",
        "sns.scatterplot(x=x, y=y)"
      ],
      "metadata": {
        "colab": {
          "base_uri": "https://localhost:8080/",
          "height": 297
        },
        "id": "KIGjWoMGzo-Y",
        "outputId": "c8c0bdca-20b5-4dbc-cb89-9301e85b9c7d"
      },
      "execution_count": null,
      "outputs": [
        {
          "output_type": "execute_result",
          "data": {
            "text/plain": [
              "<matplotlib.axes._subplots.AxesSubplot at 0x7f8112adb410>"
            ]
          },
          "metadata": {},
          "execution_count": 7
        },
        {
          "output_type": "display_data",
          "data": {
            "text/plain": [
              "<Figure size 432x288 with 1 Axes>"
            ],
            "image/png": "[encoded data removed]"
          },
          "metadata": {
            "needs_background": "light"
          }
        }
      ]
    },
    {
      "cell_type": "code",
      "source": [
        "n = df.current_price.size"
      ],
      "metadata": {
        "id": "h2IvCYOx1fUD"
      },
      "execution_count": null,
      "outputs": []
    },
    {
      "cell_type": "code",
      "source": [
        "xbar, ybar = x.mean(), y.mean()"
      ],
      "metadata": {
        "id": "V9bX8UxS1kkO"
      },
      "execution_count": null,
      "outputs": []
    },
    {
      "cell_type": "code",
      "source": [
        "import numpy as np\n",
        "cov_mat = np.cov(x, y)"
      ],
      "metadata": {
        "id": "lrbN2bry3l9n"
      },
      "execution_count": null,
      "outputs": []
    },
    {
      "cell_type": "code",
      "source": [
        "cov_mat"
      ],
      "metadata": {
        "colab": {
          "base_uri": "https://localhost:8080/"
        },
        "id": "-Fc1h2Ds3sMe",
        "outputId": "94c52bec-1a8b-4b77-dc67-c9a45d6c303d"
      },
      "execution_count": null,
      "outputs": [
        {
          "output_type": "execute_result",
          "data": {
            "text/plain": [
              "array([[ 265.28149874,  590.48255726],\n",
              "       [ 590.48255726, 1525.98633847]])"
            ]
          },
          "metadata": {},
          "execution_count": 21
        }
      ]
    },
    {
      "cell_type": "code",
      "source": [
        "beta1 = cov_mat[0,1]/cov_mat[0,0]\n",
        "beta1"
      ],
      "metadata": {
        "colab": {
          "base_uri": "https://localhost:8080/"
        },
        "id": "HjCBwBUj3wqX",
        "outputId": "d58e0b42-5201-4772-fdc0-d281a4d31934"
      },
      "execution_count": null,
      "outputs": [
        {
          "output_type": "execute_result",
          "data": {
            "text/plain": [
              "2.22587161210738"
            ]
          },
          "metadata": {},
          "execution_count": 22
        }
      ]
    },
    {
      "cell_type": "code",
      "source": [
        "beta0 = ybar - beta1 * xbar"
      ],
      "metadata": {
        "id": "qHVQFdOT3_ET"
      },
      "execution_count": null,
      "outputs": []
    },
    {
      "cell_type": "code",
      "source": [
        "xline = x\n",
        "yline = beta0 + beta1 * xline"
      ],
      "metadata": {
        "id": "DSqkFORU4rQ8"
      },
      "execution_count": null,
      "outputs": []
    },
    {
      "cell_type": "code",
      "source": [
        "x_i = 80.55\n",
        "y_i = beta0 + beta1 * x_i\n",
        "y_i"
      ],
      "metadata": {
        "colab": {
          "base_uri": "https://localhost:8080/"
        },
        "id": "LbmhikH-4JbW",
        "outputId": "fb4f8974-e8e8-4d5a-bfef-9e19ca8d44f5"
      },
      "execution_count": null,
      "outputs": [
        {
          "output_type": "execute_result",
          "data": {
            "text/plain": [
              "176.37793716836003"
            ]
          },
          "metadata": {},
          "execution_count": 24
        }
      ]
    },
    {
      "cell_type": "code",
      "source": [
        "import matplotlib.pyplot as plt\n",
        "sns.scatterplot(x=x, y=y)\n",
        "plt.plot(xline, yline, color='orange')\n",
        "_ = plt.scatter(x_i, y_i, marker='o', color='purple')"
      ],
      "metadata": {
        "colab": {
          "base_uri": "https://localhost:8080/",
          "height": 280
        },
        "id": "Y7qe3g7-4TLt",
        "outputId": "345c9831-0b7c-459a-f5e6-1cd24efde112"
      },
      "execution_count": null,
      "outputs": [
        {
          "output_type": "display_data",
          "data": {
            "text/plain": [
              "<Figure size 432x288 with 1 Axes>"
            ],
            "image/png": "[encoded data removed]"
          },
          "metadata": {
            "needs_background": "light"
          }
        }
      ]
    },
    {
      "cell_type": "code",
      "source": [
        "A = np.array([[8,20], [20,6]])\n",
        "A"
      ],
      "metadata": {
        "colab": {
          "base_uri": "https://localhost:8080/"
        },
        "id": "efWVq-wM6cj5",
        "outputId": "186db199-0bb8-4483-c3e6-b98f8b0a4954"
      },
      "execution_count": null,
      "outputs": [
        {
          "output_type": "execute_result",
          "data": {
            "text/plain": [
              "array([[ 8, 20],\n",
              "       [20,  6]])"
            ]
          },
          "metadata": {},
          "execution_count": 30
        }
      ]
    },
    {
      "cell_type": "code",
      "source": [
        "z = np.array([56, 154])\n"
      ],
      "metadata": {
        "id": "RWcA9Luy6AkU"
      },
      "execution_count": null,
      "outputs": []
    },
    {
      "cell_type": "code",
      "source": [
        "Ainv = np.linalg.inv(A)\n",
        "Ainv"
      ],
      "metadata": {
        "colab": {
          "base_uri": "https://localhost:8080/"
        },
        "id": "Z7z9-Orx6JwM",
        "outputId": "481b0ba2-3744-48a3-e579-6aca8c79460d"
      },
      "execution_count": null,
      "outputs": [
        {
          "output_type": "execute_result",
          "data": {
            "text/plain": [
              "array([[-0.01704545,  0.05681818],\n",
              "       [ 0.05681818, -0.02272727]])"
            ]
          },
          "metadata": {},
          "execution_count": 31
        }
      ]
    },
    {
      "cell_type": "code",
      "source": [
        "W = np.dot(Ainv, z)\n",
        "W"
      ],
      "metadata": {
        "colab": {
          "base_uri": "https://localhost:8080/"
        },
        "id": "KWqBSxci6Noh",
        "outputId": "0a005e78-16d7-4ac5-9921-df82e2bcbac5"
      },
      "execution_count": null,
      "outputs": [
        {
          "output_type": "execute_result",
          "data": {
            "text/plain": [
              "array([ 7.79545455, -0.31818182])"
            ]
          },
          "metadata": {},
          "execution_count": 32
        }
      ]
    },
    {
      "cell_type": "code",
      "source": [
        "xline = np.linspace(1, 4, 1000)\n",
        "yline = W[0] + W[1] * xline"
      ],
      "metadata": {
        "id": "qtkF9zZy6iqR"
      },
      "execution_count": null,
      "outputs": []
    },
    {
      "cell_type": "code",
      "source": [
        "X = np.concatenate([np.matrix(np.ones(x.size)).T, np.matrix(x).T])"
      ],
      "metadata": {
        "id": "Un4_UqA-7CsG"
      },
      "execution_count": null,
      "outputs": []
    },
    {
      "cell_type": "code",
      "source": [
        "py = (35/36.)*(1/1000) + (1/36.)* (999/1000.)\n",
        "py"
      ],
      "metadata": {
        "colab": {
          "base_uri": "https://localhost:8080/"
        },
        "id": "l8ZHO7tA_y2w",
        "outputId": "ab542bb3-4ff5-4ff3-eebc-7c10cb2f1503"
      },
      "execution_count": null,
      "outputs": [
        {
          "output_type": "execute_result",
          "data": {
            "text/plain": [
              "0.02872222222222222"
            ]
          },
          "metadata": {},
          "execution_count": 39
        }
      ]
    },
    {
      "cell_type": "code",
      "source": [
        "py_givenx = 0.972\n",
        "px = .0001"
      ],
      "metadata": {
        "id": "nfXhEtF0CZlb"
      },
      "execution_count": null,
      "outputs": []
    },
    {
      "cell_type": "code",
      "source": [
        "def bayes(my_px, my_pygivenx, my_py):\n",
        "  return(my_px*my_pygivenx)/my_py"
      ],
      "metadata": {
        "id": "MnfFVD0gCktL"
      },
      "execution_count": null,
      "outputs": []
    },
    {
      "cell_type": "code",
      "source": [
        "bayes(px, py_givenx, py)"
      ],
      "metadata": {
        "colab": {
          "base_uri": "https://localhost:8080/"
        },
        "id": "YzDDzYK3CvD6",
        "outputId": "381fb139-c535-4b9f-9c36-7d5c2cd43fe5"
      },
      "execution_count": null,
      "outputs": [
        {
          "output_type": "execute_result",
          "data": {
            "text/plain": [
              "0.0033841392649903296"
            ]
          },
          "metadata": {},
          "execution_count": 40
        }
      ]
    }
  ]
}